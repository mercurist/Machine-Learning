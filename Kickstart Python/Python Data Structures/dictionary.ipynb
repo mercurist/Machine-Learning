{
 "cells": [
  {
   "cell_type": "code",
   "execution_count": 1,
   "metadata": {},
   "outputs": [],
   "source": [
    "## Collection of key-value pairs\n",
    "## Lookup value for any key (unique) \n",
    "## Key values aren't sorted in any order"
   ]
  },
  {
   "cell_type": "code",
   "execution_count": 2,
   "metadata": {},
   "outputs": [
    {
     "name": "stdout",
     "output_type": "stream",
     "text": [
      "alpha -- beta -- gamma -- alpha -- "
     ]
    }
   ],
   "source": [
    "greek = {\n",
    "    \"a\" : \"alpha\",\n",
    "    \"b\" : \"beta\",\n",
    "    \"g\" : \"gamma\"\n",
    "}\n",
    "\n",
    "x = \"abga\"\n",
    "def decode(x):\n",
    "    for char in x:\n",
    "        print(greek[char],end = \" -- \")\n",
    "decode(x) "
   ]
  },
  {
   "cell_type": "code",
   "execution_count": 3,
   "metadata": {},
   "outputs": [
    {
     "name": "stdout",
     "output_type": "stream",
     "text": [
      "apple\n",
      "mango\n",
      "mango\n",
      "\n"
     ]
    },
    {
     "data": {
      "text/plain": [
       "400"
      ]
     },
     "execution_count": 3,
     "metadata": {},
     "output_type": "execute_result"
    }
   ],
   "source": [
    "market_prices = {\n",
    "    \"mango\" : 120,\n",
    "    \"apple\" : 160,\n",
    "    \"pomegranate\" : 180,\n",
    "    \"papaya\" : 90\n",
    "}\n",
    "\n",
    "cost = 0\n",
    "while (True):\n",
    "    fruit = input() \n",
    "    if len(fruit) < 1:\n",
    "        break\n",
    "    cost += market_prices[fruit]\n",
    "\n",
    "cost\n"
   ]
  },
  {
   "cell_type": "code",
   "execution_count": 4,
   "metadata": {},
   "outputs": [
    {
     "data": {
      "text/plain": [
       "{'mango': 120, 'apple': 160, 'pomegranate': 180, 'papaya': 90}"
      ]
     },
     "execution_count": 4,
     "metadata": {},
     "output_type": "execute_result"
    }
   ],
   "source": [
    "market_prices"
   ]
  },
  {
   "cell_type": "code",
   "execution_count": 5,
   "metadata": {},
   "outputs": [
    {
     "data": {
      "text/plain": [
       "{'a': 'alpha', 'b': 'beta', 'g': 'gamma'}"
      ]
     },
     "execution_count": 5,
     "metadata": {},
     "output_type": "execute_result"
    }
   ],
   "source": [
    "greek"
   ]
  },
  {
   "cell_type": "code",
   "execution_count": 6,
   "metadata": {},
   "outputs": [],
   "source": [
    "## Dictionaries are mutable, new symbols can be added (key-value pairs) \n",
    "greek[\"e\"] = \"epsilon\""
   ]
  },
  {
   "cell_type": "code",
   "execution_count": 7,
   "metadata": {},
   "outputs": [
    {
     "data": {
      "text/plain": [
       "{'a': 'alpha', 'b': 'beta', 'g': 'gamma', 'e': 'epsilon'}"
      ]
     },
     "execution_count": 7,
     "metadata": {},
     "output_type": "execute_result"
    }
   ],
   "source": [
    "greek"
   ]
  },
  {
   "cell_type": "code",
   "execution_count": 8,
   "metadata": {},
   "outputs": [
    {
     "data": {
      "text/plain": [
       "{'mango': 60, 'apple': 160, 'pomegranate': 180, 'papaya': 90}"
      ]
     },
     "execution_count": 8,
     "metadata": {},
     "output_type": "execute_result"
    }
   ],
   "source": [
    "# Suppose there are fluctuations in the market\n",
    "market_prices[\"mango\"] = 60\n",
    "market_prices"
   ]
  },
  {
   "cell_type": "code",
   "execution_count": 9,
   "metadata": {},
   "outputs": [
    {
     "data": {
      "text/plain": [
       "180"
      ]
     },
     "execution_count": 9,
     "metadata": {},
     "output_type": "execute_result"
    }
   ],
   "source": [
    "market_prices[\"pomegranate\"]"
   ]
  },
  {
   "cell_type": "code",
   "execution_count": 10,
   "metadata": {},
   "outputs": [
    {
     "data": {
      "text/plain": [
       "{'mango': 60,\n",
       " 'apple': 160,\n",
       " 'pomegranate': 180,\n",
       " 'papaya': 90,\n",
       " 'grapes': [40, 50]}"
      ]
     },
     "execution_count": 10,
     "metadata": {},
     "output_type": "execute_result"
    }
   ],
   "source": [
    "market_prices[\"grapes\"] = [40, 50] \n",
    "market_prices"
   ]
  },
  {
   "cell_type": "code",
   "execution_count": 11,
   "metadata": {},
   "outputs": [
    {
     "data": {
      "text/plain": [
       "{'mango': {'alphonso': 40, 'langda': 50, 'kaccha': 80},\n",
       " 'apple': 160,\n",
       " 'pomegranate': 180,\n",
       " 'papaya': 90,\n",
       " 'grapes': {'red': 40, 'green': 50, 'blue': 80}}"
      ]
     },
     "execution_count": 11,
     "metadata": {},
     "output_type": "execute_result"
    }
   ],
   "source": [
    "# OR better yet have a nested dictionary\n",
    "market_prices[\"grapes\"] = {\n",
    "    \"red\" : 40,\n",
    "    \"green\" : 50,\n",
    "    \"blue\" : 80\n",
    "}\n",
    "\n",
    "market_prices[\"mango\"] = {\n",
    "    \"alphonso\" : 40,\n",
    "    \"langda\" : 50,\n",
    "    \"kaccha\" : 80\n",
    "}\n",
    "\n",
    "market_prices"
   ]
  },
  {
   "cell_type": "code",
   "execution_count": 15,
   "metadata": {
    "scrolled": true
   },
   "outputs": [
    {
     "name": "stdout",
     "output_type": "stream",
     "text": [
      "mango red\n",
      "Not available in our market\n",
      "mnago\n",
      "Not available in our market\n",
      "mango alphonso\n",
      "mango kaccha\n",
      "apple\n",
      "pomegranate\n",
      "pomugranta\n",
      "Not available in our market\n",
      "\n"
     ]
    },
    {
     "data": {
      "text/plain": [
       "460"
      ]
     },
     "execution_count": 15,
     "metadata": {},
     "output_type": "execute_result"
    }
   ],
   "source": [
    "## Let's redefine our cost function\n",
    "def computeCost(prices):\n",
    "    cost = 0\n",
    "    while (True):\n",
    "        fruit = input().split()\n",
    "        n = len(fruit)\n",
    "        if n == 0:\n",
    "            break\n",
    "        value = prices\n",
    "        for i in range(n):\n",
    "            try:\n",
    "                value = value[fruit[i]]  \n",
    "                if i == n- 1:\n",
    "                    cost += value\n",
    "            except:\n",
    "                print(\"Not available in our market\")\n",
    "    return cost\n",
    "\n",
    "computeCost(market_prices)"
   ]
  },
  {
   "cell_type": "code",
   "execution_count": 16,
   "metadata": {},
   "outputs": [
    {
     "data": {
      "text/plain": [
       "80"
      ]
     },
     "execution_count": 16,
     "metadata": {},
     "output_type": "execute_result"
    }
   ],
   "source": [
    "market_prices[\"grapes\"][\"blue\"]"
   ]
  },
  {
   "cell_type": "code",
   "execution_count": 17,
   "metadata": {},
   "outputs": [
    {
     "data": {
      "text/plain": [
       "{'alphonso': 40, 'langda': 50, 'kaccha': 80}"
      ]
     },
     "execution_count": 17,
     "metadata": {},
     "output_type": "execute_result"
    }
   ],
   "source": [
    "market_prices[\"mango\"]"
   ]
  },
  {
   "cell_type": "code",
   "execution_count": 20,
   "metadata": {},
   "outputs": [
    {
     "data": {
      "text/plain": [
       "[1, 2, 3, 4.0]"
      ]
     },
     "execution_count": 20,
     "metadata": {},
     "output_type": "execute_result"
    }
   ],
   "source": [
    "# Using constructors\n",
    "x = list([1,2,3,4.0])\n",
    "x"
   ]
  },
  {
   "cell_type": "code",
   "execution_count": 23,
   "metadata": {},
   "outputs": [
    {
     "data": {
      "text/plain": [
       "{'a': 'alphabet'}"
      ]
     },
     "execution_count": 23,
     "metadata": {},
     "output_type": "execute_result"
    }
   ],
   "source": [
    "x = dict({\"a\":\"alphabet\"})\n",
    "x"
   ]
  },
  {
   "cell_type": "code",
   "execution_count": 24,
   "metadata": {},
   "outputs": [
    {
     "data": {
      "text/plain": [
       "dict_keys(['mango', 'apple', 'pomegranate', 'papaya', 'grapes'])"
      ]
     },
     "execution_count": 24,
     "metadata": {},
     "output_type": "execute_result"
    }
   ],
   "source": [
    "market_prices.keys() "
   ]
  },
  {
   "cell_type": "code",
   "execution_count": 25,
   "metadata": {},
   "outputs": [
    {
     "data": {
      "text/plain": [
       "dict_values([{'alphonso': 40, 'langda': 50, 'kaccha': 80}, 160, 180, 90, {'red': 40, 'green': 50, 'blue': 80}])"
      ]
     },
     "execution_count": 25,
     "metadata": {},
     "output_type": "execute_result"
    }
   ],
   "source": [
    "market_prices.values() "
   ]
  },
  {
   "cell_type": "code",
   "execution_count": 26,
   "metadata": {},
   "outputs": [
    {
     "data": {
      "text/plain": [
       "dict_values([40, 50, 80])"
      ]
     },
     "execution_count": 26,
     "metadata": {},
     "output_type": "execute_result"
    }
   ],
   "source": [
    "market_prices[\"mango\"].values()"
   ]
  },
  {
   "cell_type": "code",
   "execution_count": 27,
   "metadata": {
    "scrolled": true
   },
   "outputs": [
    {
     "data": {
      "text/plain": [
       "['__class__',\n",
       " '__contains__',\n",
       " '__delattr__',\n",
       " '__delitem__',\n",
       " '__dir__',\n",
       " '__doc__',\n",
       " '__eq__',\n",
       " '__format__',\n",
       " '__ge__',\n",
       " '__getattribute__',\n",
       " '__getitem__',\n",
       " '__gt__',\n",
       " '__hash__',\n",
       " '__init__',\n",
       " '__init_subclass__',\n",
       " '__iter__',\n",
       " '__le__',\n",
       " '__len__',\n",
       " '__lt__',\n",
       " '__ne__',\n",
       " '__new__',\n",
       " '__reduce__',\n",
       " '__reduce_ex__',\n",
       " '__repr__',\n",
       " '__reversed__',\n",
       " '__setattr__',\n",
       " '__setitem__',\n",
       " '__sizeof__',\n",
       " '__str__',\n",
       " '__subclasshook__',\n",
       " 'clear',\n",
       " 'copy',\n",
       " 'fromkeys',\n",
       " 'get',\n",
       " 'items',\n",
       " 'keys',\n",
       " 'pop',\n",
       " 'popitem',\n",
       " 'setdefault',\n",
       " 'update',\n",
       " 'values']"
      ]
     },
     "execution_count": 27,
     "metadata": {},
     "output_type": "execute_result"
    }
   ],
   "source": [
    "market = market_prices\n",
    "dir(market) "
   ]
  },
  {
   "cell_type": "code",
   "execution_count": 28,
   "metadata": {},
   "outputs": [
    {
     "data": {
      "text/plain": [
       "{'alphonso': 40, 'langda': 50, 'kaccha': 80}"
      ]
     },
     "execution_count": 28,
     "metadata": {},
     "output_type": "execute_result"
    }
   ],
   "source": [
    "market.get(\"mango\") "
   ]
  },
  {
   "cell_type": "code",
   "execution_count": 36,
   "metadata": {},
   "outputs": [
    {
     "name": "stdout",
     "output_type": "stream",
     "text": [
      "None\n",
      "<class 'NoneType'>\n"
     ]
    }
   ],
   "source": [
    "# Doesn't throw an error if the key doesn't exist in the dictionary!\n",
    "print(market.get(\"jackfruit\"))\n",
    "print(type(market.get(\"jackfruit\")))\n"
   ]
  },
  {
   "cell_type": "code",
   "execution_count": 32,
   "metadata": {},
   "outputs": [
    {
     "ename": "KeyError",
     "evalue": "'jackfruit'",
     "output_type": "error",
     "traceback": [
      "\u001b[1;31m---------------------------------------------------------------------------\u001b[0m",
      "\u001b[1;31mKeyError\u001b[0m                                  Traceback (most recent call last)",
      "\u001b[1;32m<ipython-input-32-393d6c560fc5>\u001b[0m in \u001b[0;36m<module>\u001b[1;34m\u001b[0m\n\u001b[1;32m----> 1\u001b[1;33m \u001b[0mmarket\u001b[0m\u001b[1;33m[\u001b[0m\u001b[1;34m\"jackfruit\"\u001b[0m\u001b[1;33m]\u001b[0m\u001b[1;33m\u001b[0m\u001b[1;33m\u001b[0m\u001b[0m\n\u001b[0m",
      "\u001b[1;31mKeyError\u001b[0m: 'jackfruit'"
     ]
    }
   ],
   "source": [
    "market[\"jackfruit\"] "
   ]
  },
  {
   "cell_type": "code",
   "execution_count": 40,
   "metadata": {},
   "outputs": [
    {
     "name": "stdout",
     "output_type": "stream",
     "text": [
      "mango\n",
      "price of mango is  {'alphonso': 40, 'langda': 50, 'kaccha': 80}\n"
     ]
    }
   ],
   "source": [
    "test_fruit = input()\n",
    "if test_fruit in market:\n",
    "    print(\"price of\", test_fruit, \"is \", market[test_fruit])\n",
    "else :\n",
    "    print(test_fruit, \"isn't available here!\") "
   ]
  },
  {
   "cell_type": "code",
   "execution_count": 41,
   "metadata": {},
   "outputs": [
    {
     "data": {
      "text/plain": [
       "dict_items([('mango', {'alphonso': 40, 'langda': 50, 'kaccha': 80}), ('apple', 160), ('pomegranate', 180), ('papaya', 90), ('grapes', {'red': 40, 'green': 50, 'blue': 80})])"
      ]
     },
     "execution_count": 41,
     "metadata": {},
     "output_type": "execute_result"
    }
   ],
   "source": [
    "market.items() "
   ]
  },
  {
   "cell_type": "code",
   "execution_count": 48,
   "metadata": {},
   "outputs": [
    {
     "data": {
      "text/plain": [
       "dict_items([('a', 'alpha'), ('b', 'beta'), ('g', 'gamma'), ('e', 'epsilon')])"
      ]
     },
     "execution_count": 48,
     "metadata": {},
     "output_type": "execute_result"
    }
   ],
   "source": [
    "# Returns a list of tuples!\n",
    "records = greek.items() \n",
    "records"
   ]
  },
  {
   "cell_type": "code",
   "execution_count": 51,
   "metadata": {},
   "outputs": [
    {
     "name": "stdout",
     "output_type": "stream",
     "text": [
      "('a', 'alpha') --- ('b', 'beta') --- ('g', 'gamma') --- ('e', 'epsilon') --- "
     ]
    }
   ],
   "source": [
    "for x  in records:\n",
    "    print(x, end =\" --- \")"
   ]
  },
  {
   "cell_type": "code",
   "execution_count": 52,
   "metadata": {},
   "outputs": [],
   "source": [
    "# Why do this? \n",
    "# Because the dict_items object is not subscriptable! \n",
    "lister = list(greek.items()) "
   ]
  },
  {
   "cell_type": "code",
   "execution_count": 53,
   "metadata": {},
   "outputs": [
    {
     "ename": "TypeError",
     "evalue": "'dict_items' object is not subscriptable",
     "output_type": "error",
     "traceback": [
      "\u001b[1;31m---------------------------------------------------------------------------\u001b[0m",
      "\u001b[1;31mTypeError\u001b[0m                                 Traceback (most recent call last)",
      "\u001b[1;32m<ipython-input-53-8a115250dffb>\u001b[0m in \u001b[0;36m<module>\u001b[1;34m\u001b[0m\n\u001b[1;32m----> 1\u001b[1;33m \u001b[0mrecords\u001b[0m\u001b[1;33m[\u001b[0m\u001b[1;36m0\u001b[0m\u001b[1;33m]\u001b[0m\u001b[1;33m[\u001b[0m\u001b[1;36m1\u001b[0m\u001b[1;33m]\u001b[0m\u001b[1;33m\u001b[0m\u001b[1;33m\u001b[0m\u001b[0m\n\u001b[0m",
      "\u001b[1;31mTypeError\u001b[0m: 'dict_items' object is not subscriptable"
     ]
    }
   ],
   "source": [
    "records[0][1] "
   ]
  },
  {
   "cell_type": "code",
   "execution_count": 54,
   "metadata": {},
   "outputs": [
    {
     "data": {
      "text/plain": [
       "'alpha'"
      ]
     },
     "execution_count": 54,
     "metadata": {},
     "output_type": "execute_result"
    }
   ],
   "source": [
    "lister[0][1] "
   ]
  },
  {
   "cell_type": "code",
   "execution_count": 55,
   "metadata": {},
   "outputs": [
    {
     "data": {
      "text/plain": [
       "{'mango': {'alphonso': 40, 'langda': 50, 'kaccha': 80},\n",
       " 'apple': 160,\n",
       " 'papaya': 90,\n",
       " 'grapes': {'red': 40, 'green': 50, 'blue': 80}}"
      ]
     },
     "execution_count": 55,
     "metadata": {},
     "output_type": "execute_result"
    }
   ],
   "source": [
    "del market[\"pomegranate\"]\n",
    "market"
   ]
  },
  {
   "cell_type": "code",
   "execution_count": 56,
   "metadata": {},
   "outputs": [
    {
     "data": {
      "text/plain": [
       "{'mango': {'alphonso': 40, 'langda': 50, 'kaccha': 80},\n",
       " 'apple': 160,\n",
       " 'grapes': {'red': 40, 'green': 50, 'blue': 80}}"
      ]
     },
     "execution_count": 56,
     "metadata": {},
     "output_type": "execute_result"
    }
   ],
   "source": [
    "del market[\"papaya\"]\n",
    "market"
   ]
  },
  {
   "cell_type": "code",
   "execution_count": 57,
   "metadata": {},
   "outputs": [
    {
     "data": {
      "text/plain": [
       "{'mango': {'alphonso': 40, 'langda': 50, 'kaccha': 80},\n",
       " 'apple': 160,\n",
       " 'grapes': {'red': 40, 'green': 50, 'blue': 80},\n",
       " 'strawberry': 450,\n",
       " 'blueberry': 700,\n",
       " 'cherry': 210}"
      ]
     },
     "execution_count": 57,
     "metadata": {},
     "output_type": "execute_result"
    }
   ],
   "source": [
    "new_market = {\n",
    "    \"strawberry\" : 450,\n",
    "    \"blueberry\" : 700,\n",
    "    \"cherry\" : 210\n",
    "}\n",
    "\n",
    "# Merging of two dictionaries!\n",
    "market.update(new_market)\n",
    "market"
   ]
  },
  {
   "cell_type": "code",
   "execution_count": 58,
   "metadata": {},
   "outputs": [
    {
     "data": {
      "text/plain": [
       "6"
      ]
     },
     "execution_count": 58,
     "metadata": {},
     "output_type": "execute_result"
    }
   ],
   "source": [
    "len(market) "
   ]
  },
  {
   "cell_type": "code",
   "execution_count": 59,
   "metadata": {},
   "outputs": [],
   "source": [
    "market.clear() "
   ]
  },
  {
   "cell_type": "code",
   "execution_count": 60,
   "metadata": {},
   "outputs": [
    {
     "data": {
      "text/plain": [
       "0"
      ]
     },
     "execution_count": 60,
     "metadata": {},
     "output_type": "execute_result"
    }
   ],
   "source": [
    "len(market) "
   ]
  },
  {
   "cell_type": "code",
   "execution_count": 61,
   "metadata": {},
   "outputs": [
    {
     "data": {
      "text/plain": [
       "<zip at 0x7091e48>"
      ]
     },
     "execution_count": 61,
     "metadata": {},
     "output_type": "execute_result"
    }
   ],
   "source": [
    "# List to dictionary!\n",
    "fruits = [\"banana\", \"apple\", \"grapes\", \"mango\"]\n",
    "prices = [100, 140, 80, 160]\n",
    "\n",
    "rel = zip(fruits, prices)\n",
    "rel"
   ]
  },
  {
   "cell_type": "code",
   "execution_count": 62,
   "metadata": {},
   "outputs": [
    {
     "data": {
      "text/plain": [
       "{'banana': 100, 'apple': 140, 'grapes': 80, 'mango': 160}"
      ]
     },
     "execution_count": 62,
     "metadata": {},
     "output_type": "execute_result"
    }
   ],
   "source": [
    "prices = dict(rel)\n",
    "prices"
   ]
  },
  {
   "cell_type": "code",
   "execution_count": 63,
   "metadata": {},
   "outputs": [
    {
     "name": "stdout",
     "output_type": "stream",
     "text": [
      "banana\n",
      "apple\n",
      "grapes\n",
      "mango\n"
     ]
    }
   ],
   "source": [
    "for x  in prices.keys() :\n",
    "    print(x) \n",
    "    "
   ]
  },
  {
   "cell_type": "code",
   "execution_count": 64,
   "metadata": {},
   "outputs": [
    {
     "name": "stdout",
     "output_type": "stream",
     "text": [
      "banana\n",
      "apple\n",
      "grapes\n",
      "mango\n"
     ]
    }
   ],
   "source": [
    "for x in prices:\n",
    "    print(x) "
   ]
  },
  {
   "cell_type": "code",
   "execution_count": 68,
   "metadata": {},
   "outputs": [
    {
     "name": "stdout",
     "output_type": "stream",
     "text": [
      "banana \t 100\n",
      "apple \t 140\n",
      "grapes \t 80\n",
      "mango \t 160\n"
     ]
    }
   ],
   "source": [
    "for x in prices:\n",
    "    print(x,\"\\t\", prices[x])  "
   ]
  },
  {
   "cell_type": "code",
   "execution_count": 69,
   "metadata": {},
   "outputs": [
    {
     "name": "stdout",
     "output_type": "stream",
     "text": [
      "100\n",
      "140\n",
      "80\n",
      "160\n"
     ]
    }
   ],
   "source": [
    "for x in prices.values():\n",
    "    print(x) "
   ]
  }
 ],
 "metadata": {
  "kernelspec": {
   "display_name": "Python 3",
   "language": "python",
   "name": "python3"
  },
  "language_info": {
   "codemirror_mode": {
    "name": "ipython",
    "version": 3
   },
   "file_extension": ".py",
   "mimetype": "text/x-python",
   "name": "python",
   "nbconvert_exporter": "python",
   "pygments_lexer": "ipython3",
   "version": "3.8.2"
  }
 },
 "nbformat": 4,
 "nbformat_minor": 4
}
