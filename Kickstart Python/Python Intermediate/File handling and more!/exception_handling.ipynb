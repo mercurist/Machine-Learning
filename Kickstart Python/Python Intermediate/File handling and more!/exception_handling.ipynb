{
 "cells": [
  {
   "cell_type": "code",
   "execution_count": 1,
   "metadata": {},
   "outputs": [
    {
     "ename": "FileNotFoundError",
     "evalue": "[Errno 2] No such file or directory: 'i_do_not_exist.txt'",
     "output_type": "error",
     "traceback": [
      "\u001b[1;31m---------------------------------------------------------------------------\u001b[0m",
      "\u001b[1;31mFileNotFoundError\u001b[0m                         Traceback (most recent call last)",
      "\u001b[1;32m<ipython-input-1-d1b280807428>\u001b[0m in \u001b[0;36m<module>\u001b[1;34m\u001b[0m\n\u001b[1;32m----> 1\u001b[1;33m \u001b[0mf\u001b[0m \u001b[1;33m=\u001b[0m \u001b[0mopen\u001b[0m\u001b[1;33m(\u001b[0m\u001b[1;34m\"i_do_not_exist.txt\"\u001b[0m\u001b[1;33m,\u001b[0m \u001b[1;34m'r'\u001b[0m\u001b[1;33m)\u001b[0m\u001b[1;33m\u001b[0m\u001b[1;33m\u001b[0m\u001b[0m\n\u001b[0m",
      "\u001b[1;31mFileNotFoundError\u001b[0m: [Errno 2] No such file or directory: 'i_do_not_exist.txt'"
     ]
    }
   ],
   "source": [
    "f = open(\"i_do_not_exist.txt\", 'r')"
   ]
  },
  {
   "cell_type": "code",
   "execution_count": 2,
   "metadata": {},
   "outputs": [
    {
     "ename": "ZeroDivisionError",
     "evalue": "division by zero",
     "output_type": "error",
     "traceback": [
      "\u001b[1;31m---------------------------------------------------------------------------\u001b[0m",
      "\u001b[1;31mZeroDivisionError\u001b[0m                         Traceback (most recent call last)",
      "\u001b[1;32m<ipython-input-2-cd759d3fcf39>\u001b[0m in \u001b[0;36m<module>\u001b[1;34m\u001b[0m\n\u001b[1;32m----> 1\u001b[1;33m \u001b[1;36m10\u001b[0m \u001b[1;33m/\u001b[0m \u001b[1;36m0\u001b[0m\u001b[1;33m\u001b[0m\u001b[1;33m\u001b[0m\u001b[0m\n\u001b[0m",
      "\u001b[1;31mZeroDivisionError\u001b[0m: division by zero"
     ]
    }
   ],
   "source": [
    "10 / 0"
   ]
  },
  {
   "cell_type": "code",
   "execution_count": 9,
   "metadata": {},
   "outputs": [
    {
     "name": "stdout",
     "output_type": "stream",
     "text": [
      "What you're looking for, doesn't exist in the real of secondary memories!\n"
     ]
    }
   ],
   "source": [
    "try :\n",
    "    f = open(\"i_do_not_exist.txt\", 'r')\n",
    "except FileNotFoundError:\n",
    "    print(\"What you're looking for, doesn't exist in the real of secondary memories!\")\n",
    "except:\n",
    "    print(\"The file cannot be read!\")"
   ]
  },
  {
   "cell_type": "code",
   "execution_count": 7,
   "metadata": {},
   "outputs": [
    {
     "name": "stdout",
     "output_type": "stream",
     "text": [
      "Please stop treating Python like a bitch!\n"
     ]
    }
   ],
   "source": [
    "try:\n",
    "    print(10/0)\n",
    "except ZeroDivisionError:\n",
    "    print(\"Please stop treating Python like a bitch!\")\n",
    "except Exception:\n",
    "    print(\"Python got lost in the binaries!\")\n",
    "    # A very generalised error!\n",
    "    print(\"Here's what the police thinks _\", Exception)"
   ]
  },
  {
   "cell_type": "code",
   "execution_count": 10,
   "metadata": {},
   "outputs": [
    {
     "name": "stdout",
     "output_type": "stream",
     "text": [
      "Where the hell is b\n"
     ]
    }
   ],
   "source": [
    "try :\n",
    "    a = b\n",
    "except NameError:\n",
    "    print(\"Where the hell is b\")\n",
    "except Exception:\n",
    "    print(\"cliche\", Exception)"
   ]
  },
  {
   "cell_type": "code",
   "execution_count": 20,
   "metadata": {},
   "outputs": [
    {
     "name": "stdout",
     "output_type": "stream",
     "text": [
      "What's on your mind? pytorch\n",
      "Well, programming is easy-peasy\n",
      "dread it, run from it, finally arrives all the same!\n"
     ]
    }
   ],
   "source": [
    "try :\n",
    "    name = input(\"What's on your mind? \")\n",
    "    if len(name) < 3:\n",
    "        raise Exception\n",
    "\n",
    "except Exception:\n",
    "    print(\"Please enter a valid name!\")\n",
    "    # Default exception must be last!\n",
    "except:\n",
    "    print(\"I am not needed here unless someone messes up the snippet!\")\n",
    "else:\n",
    "    # This is executed if Python didn't come across any exception!\n",
    "    print(\"Well, programming is easy-peasy\")\n",
    "\n",
    "finally:\n",
    "    print(\"dread it, run from it, finally arrives all the same!\")"
   ]
  }
 ],
 "metadata": {
  "kernelspec": {
   "display_name": "Python 3",
   "language": "python",
   "name": "python3"
  },
  "language_info": {
   "codemirror_mode": {
    "name": "ipython",
    "version": 3
   },
   "file_extension": ".py",
   "mimetype": "text/x-python",
   "name": "python",
   "nbconvert_exporter": "python",
   "pygments_lexer": "ipython3",
   "version": "3.8.2"
  }
 },
 "nbformat": 4,
 "nbformat_minor": 4
}
