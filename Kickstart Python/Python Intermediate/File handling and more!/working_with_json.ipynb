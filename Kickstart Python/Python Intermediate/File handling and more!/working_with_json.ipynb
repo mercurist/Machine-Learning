{
 "cells": [
  {
   "cell_type": "code",
   "execution_count": 1,
   "metadata": {},
   "outputs": [],
   "source": [
    "import json"
   ]
  },
  {
   "cell_type": "code",
   "execution_count": 6,
   "metadata": {},
   "outputs": [],
   "source": [
    "book = {\n",
    "    \"title\" : \"DS and algorithms made easy\",\n",
    "    \"pages\" : 250,\n",
    "    \"authors\": [\n",
    "        {\n",
    "            \"name\" : \"Cormen\",\n",
    "            \"age\" : 40\n",
    "        },\n",
    "        {\n",
    "            \"name\" : \"Leiserson\",\n",
    "            \"age\" : 42\n",
    "        },\n",
    "        {\n",
    "            \"name\" : \"Rivest\",\n",
    "            \"age\" : 39\n",
    "        },\n",
    "        {\n",
    "            \"name\" : \"Stein\",\n",
    "            \"age\" : 45\n",
    "        }\n",
    "    ],\n",
    "    \"rating\" : 4.8991\n",
    "}"
   ]
  },
  {
   "cell_type": "code",
   "execution_count": 9,
   "metadata": {},
   "outputs": [
    {
     "data": {
      "text/plain": [
       "dict"
      ]
     },
     "execution_count": 9,
     "metadata": {},
     "output_type": "execute_result"
    }
   ],
   "source": [
    "type(book)"
   ]
  },
  {
   "cell_type": "code",
   "execution_count": 10,
   "metadata": {},
   "outputs": [
    {
     "data": {
      "text/plain": [
       "{'title': 'DS and algorithms made easy',\n",
       " 'pages': 250,\n",
       " 'authors': [{'name': 'Cormen', 'age': 40},\n",
       "  {'name': 'Leiserson', 'age': 42},\n",
       "  {'name': 'Rivest', 'age': 39},\n",
       "  {'name': 'Stein', 'age': 45}],\n",
       " 'rating': 4.8991}"
      ]
     },
     "execution_count": 10,
     "metadata": {},
     "output_type": "execute_result"
    }
   ],
   "source": [
    "book"
   ]
  },
  {
   "cell_type": "code",
   "execution_count": 11,
   "metadata": {},
   "outputs": [
    {
     "data": {
      "text/plain": [
       "'DS and algorithms made easy'"
      ]
     },
     "execution_count": 11,
     "metadata": {},
     "output_type": "execute_result"
    }
   ],
   "source": [
    "book[\"title\"] "
   ]
  },
  {
   "cell_type": "code",
   "execution_count": 12,
   "metadata": {},
   "outputs": [
    {
     "data": {
      "text/plain": [
       "[{'name': 'Cormen', 'age': 40},\n",
       " {'name': 'Leiserson', 'age': 42},\n",
       " {'name': 'Rivest', 'age': 39},\n",
       " {'name': 'Stein', 'age': 45}]"
      ]
     },
     "execution_count": 12,
     "metadata": {},
     "output_type": "execute_result"
    }
   ],
   "source": [
    "book[\"authors\"]"
   ]
  },
  {
   "cell_type": "code",
   "execution_count": 14,
   "metadata": {},
   "outputs": [
    {
     "data": {
      "text/plain": [
       "39"
      ]
     },
     "execution_count": 14,
     "metadata": {},
     "output_type": "execute_result"
    }
   ],
   "source": [
    "book[\"authors\"][2][\"age\"] "
   ]
  },
  {
   "cell_type": "code",
   "execution_count": 15,
   "metadata": {},
   "outputs": [],
   "source": [
    "with open(\"./Resources/myJsonFile.json\", 'w') as f:\n",
    "    # dumping a dictionary book into a file, the handle for which is f\n",
    "    json.dump(book, f) "
   ]
  },
  {
   "cell_type": "code",
   "execution_count": 18,
   "metadata": {},
   "outputs": [
    {
     "data": {
      "text/plain": [
       "'{\"title\": \"DS and algorithms made easy\", \"pages\": 250, \"authors\": [{\"name\": \"Cormen\", \"age\": 40}, {\"name\": \"Leiserson\", \"age\": 42}, {\"name\": \"Rivest\", \"age\": 39}, {\"name\": \"Stein\", \"age\": 45}], \"rating\": 4.8991}'"
      ]
     },
     "execution_count": 18,
     "metadata": {},
     "output_type": "execute_result"
    }
   ],
   "source": [
    "# This doesn't accept a file name and simply returns a string\n",
    "s = json.dumps(book) \n",
    "s"
   ]
  },
  {
   "cell_type": "code",
   "execution_count": 19,
   "metadata": {},
   "outputs": [
    {
     "data": {
      "text/plain": [
       "str"
      ]
     },
     "execution_count": 19,
     "metadata": {},
     "output_type": "execute_result"
    }
   ],
   "source": [
    "type(s) "
   ]
  },
  {
   "cell_type": "code",
   "execution_count": 20,
   "metadata": {},
   "outputs": [
    {
     "data": {
      "text/plain": [
       "{'title': 'DS and algorithms made easy',\n",
       " 'pages': 250,\n",
       " 'authors': [{'name': 'Cormen', 'age': 40},\n",
       "  {'name': 'Leiserson', 'age': 42},\n",
       "  {'name': 'Rivest', 'age': 39},\n",
       "  {'name': 'Stein', 'age': 45}],\n",
       " 'rating': 4.8991}"
      ]
     },
     "execution_count": 20,
     "metadata": {},
     "output_type": "execute_result"
    }
   ],
   "source": [
    "obj = json.loads(s) \n",
    "obj"
   ]
  },
  {
   "cell_type": "code",
   "execution_count": 21,
   "metadata": {},
   "outputs": [
    {
     "data": {
      "text/plain": [
       "dict"
      ]
     },
     "execution_count": 21,
     "metadata": {},
     "output_type": "execute_result"
    }
   ],
   "source": [
    "type(obj) "
   ]
  },
  {
   "cell_type": "code",
   "execution_count": 25,
   "metadata": {},
   "outputs": [
    {
     "name": "stdout",
     "output_type": "stream",
     "text": [
      "{'authors': [{'age': 40, 'name': 'Cormen'},\n",
      "             {'age': 42, 'name': 'Leiserson'},\n",
      "             {'age': 39, 'name': 'Rivest'},\n",
      "             {'age': 45, 'name': 'Stein'}],\n",
      " 'pages': 250,\n",
      " 'rating': 4.8991,\n",
      " 'title': 'DS and algorithms made easy'}\n",
      "<class 'dict'>\n"
     ]
    }
   ],
   "source": [
    "import pprint\n",
    "\n",
    "with open(\"./Resources/myJsonFile.json\", 'r') as f:\n",
    "    data = json.load(f)\n",
    "    pprint.pprint(data) \n",
    "    print(type(data)) "
   ]
  }
 ],
 "metadata": {
  "kernelspec": {
   "display_name": "Python 3",
   "language": "python",
   "name": "python3"
  },
  "language_info": {
   "codemirror_mode": {
    "name": "ipython",
    "version": 3
   },
   "file_extension": ".py",
   "mimetype": "text/x-python",
   "name": "python",
   "nbconvert_exporter": "python",
   "pygments_lexer": "ipython3",
   "version": "3.8.2"
  }
 },
 "nbformat": 4,
 "nbformat_minor": 4
}
