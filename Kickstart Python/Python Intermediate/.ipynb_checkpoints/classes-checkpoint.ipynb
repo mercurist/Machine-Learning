{
 "cells": [
  {
   "cell_type": "markdown",
   "metadata": {},
   "source": [
    "### A minimalistic Python class"
   ]
  },
  {
   "cell_type": "code",
   "execution_count": 1,
   "metadata": {},
   "outputs": [],
   "source": [
    "class Person():\n",
    "    pass"
   ]
  },
  {
   "cell_type": "code",
   "execution_count": 2,
   "metadata": {},
   "outputs": [
    {
     "data": {
      "text/plain": [
       "__main__.Person"
      ]
     },
     "execution_count": 2,
     "metadata": {},
     "output_type": "execute_result"
    }
   ],
   "source": [
    "p = Person()\n",
    "type(p)"
   ]
  },
  {
   "cell_type": "markdown",
   "metadata": {},
   "source": [
    "### Let's define a Person class"
   ]
  },
  {
   "cell_type": "code",
   "execution_count": 3,
   "metadata": {},
   "outputs": [],
   "source": [
    "class Person():\n",
    "\n",
    "    # Common for all variables of the same class! aka Class variables!\n",
    "    nationality = \"Indian\"\n",
    "    \n",
    "    def __init__(self, person_name, college):\n",
    "        # Instance variables different for every instance of the same class!\n",
    "        self.name = person_name\n",
    "        self.college = college\n",
    "\n",
    "    def sayHi(self, name):\n",
    "        print(\"Hello\", name)\n",
    "\n",
    "    def introduce(self):\n",
    "        print(\"Name\\t\\t\", self.name)\n",
    "        print(\"College\\t\\t\", self.college)"
   ]
  },
  {
   "cell_type": "code",
   "execution_count": 4,
   "metadata": {},
   "outputs": [
    {
     "name": "stdout",
     "output_type": "stream",
     "text": [
      "Hello VSCode\n"
     ]
    }
   ],
   "source": [
    "p = Person(\"Aditya Krishna\", \"DTU\")\n",
    "p.sayHi(\"VSCode\")"
   ]
  },
  {
   "cell_type": "code",
   "execution_count": 5,
   "metadata": {},
   "outputs": [
    {
     "name": "stdout",
     "output_type": "stream",
     "text": [
      "Name\t\t Aditya Krishna\n",
      "College\t\t DTU\n"
     ]
    }
   ],
   "source": [
    "p.introduce()"
   ]
  },
  {
   "cell_type": "code",
   "execution_count": 6,
   "metadata": {},
   "outputs": [
    {
     "name": "stdout",
     "output_type": "stream",
     "text": [
      "Name\t\t Gennady Korotkevich\n",
      "College\t\t ITMO\n"
     ]
    }
   ],
   "source": [
    "p2 = Person(\"Gennady Korotkevich\", \"ITMO\")\n",
    "p2.introduce()"
   ]
  },
  {
   "cell_type": "code",
   "execution_count": 7,
   "metadata": {},
   "outputs": [
    {
     "data": {
      "text/plain": [
       "'Gennady Korotkevich'"
      ]
     },
     "execution_count": 7,
     "metadata": {},
     "output_type": "execute_result"
    }
   ],
   "source": [
    "p2.name"
   ]
  },
  {
   "cell_type": "code",
   "execution_count": 8,
   "metadata": {},
   "outputs": [
    {
     "data": {
      "text/plain": [
       "'Aditya Krishna'"
      ]
     },
     "execution_count": 8,
     "metadata": {},
     "output_type": "execute_result"
    }
   ],
   "source": [
    "p.name"
   ]
  },
  {
   "cell_type": "markdown",
   "metadata": {},
   "source": [
    "### Class variables vs Instance variables!"
   ]
  },
  {
   "cell_type": "code",
   "execution_count": 9,
   "metadata": {},
   "outputs": [],
   "source": [
    "class dog():\n",
    "    color = \"Brown\"\n",
    "    # activites = []\n",
    "\n",
    "    def __init__(self, breed):\n",
    "        self.activities = []\n",
    "        self.breed = breed\n",
    "    \n",
    "    def addActivity(self, act):\n",
    "        self.activities.append(act)\n",
    "\n",
    "    def secretActivity(self):\n",
    "        print(self.breed, \"doing secret activity!\")\n",
    "    \n",
    "    def introduce(self):\n",
    "        print(\"Breed = \" + self.breed)\n",
    "        print(\"Activities = \", end = \"\")\n",
    "        for x in self.activities:\n",
    "            print(x, end =\" ->.<- \")\n",
    "    "
   ]
  },
  {
   "cell_type": "code",
   "execution_count": 10,
   "metadata": {},
   "outputs": [],
   "source": [
    "d1 = dog(\"german shepherd\")\n",
    "d2 = dog(\"golden retriever\")"
   ]
  },
  {
   "cell_type": "code",
   "execution_count": 11,
   "metadata": {},
   "outputs": [],
   "source": [
    "d1.addActivity(\"fetch\")\n",
    "d1.addActivity(\"play\")\n",
    "d1.addActivity(\"catch\")"
   ]
  },
  {
   "cell_type": "code",
   "execution_count": 12,
   "metadata": {},
   "outputs": [
    {
     "name": "stdout",
     "output_type": "stream",
     "text": [
      "Breed = german shepherd\n",
      "Activities = fetch ->.<- play ->.<- catch ->.<- "
     ]
    }
   ],
   "source": [
    "d1.introduce()"
   ]
  },
  {
   "cell_type": "code",
   "execution_count": 13,
   "metadata": {},
   "outputs": [
    {
     "data": {
      "text/plain": [
       "[]"
      ]
     },
     "execution_count": 13,
     "metadata": {},
     "output_type": "execute_result"
    }
   ],
   "source": [
    "# the bucket activities is a class variable! So any changes made to this via object d1, will reflect in d2\n",
    "d2.activities"
   ]
  },
  {
   "cell_type": "code",
   "execution_count": 14,
   "metadata": {},
   "outputs": [],
   "source": [
    "d2.activities.clear()"
   ]
  },
  {
   "cell_type": "code",
   "execution_count": 15,
   "metadata": {},
   "outputs": [],
   "source": [
    "d2.addActivity(\"play\")\n",
    "d2.addActivity(\"sniff\")\n",
    "d2.addActivity(\"detect\")"
   ]
  },
  {
   "cell_type": "code",
   "execution_count": 16,
   "metadata": {},
   "outputs": [
    {
     "name": "stdout",
     "output_type": "stream",
     "text": [
      "Breed = golden retriever\n",
      "Activities = play ->.<- sniff ->.<- detect ->.<- "
     ]
    }
   ],
   "source": [
    "d2.introduce()"
   ]
  },
  {
   "cell_type": "code",
   "execution_count": 17,
   "metadata": {},
   "outputs": [
    {
     "name": "stdout",
     "output_type": "stream",
     "text": [
      "Breed = german shepherd\n",
      "Activities = fetch ->.<- play ->.<- catch ->.<- "
     ]
    }
   ],
   "source": [
    "# By default, all the methods and class variable in a class are public. Let's make them secure!\n",
    "# For private methods and variables, we can't access them directly from the outside of the class!\n",
    "d1.introduce()"
   ]
  },
  {
   "cell_type": "code",
   "execution_count": 18,
   "metadata": {},
   "outputs": [
    {
     "name": "stdout",
     "output_type": "stream",
     "text": [
      "german shepherd doing secret activity!\n"
     ]
    }
   ],
   "source": [
    "d1.secretActivity()"
   ]
  },
  {
   "cell_type": "code",
   "execution_count": 19,
   "metadata": {},
   "outputs": [
    {
     "name": "stdout",
     "output_type": "stream",
     "text": [
      "golden retriever doing secret activity!\n"
     ]
    }
   ],
   "source": [
    "d2.secretActivity() "
   ]
  },
  {
   "cell_type": "code",
   "execution_count": 44,
   "metadata": {},
   "outputs": [],
   "source": [
    "class dog():\n",
    "    color = \"Brown\"\n",
    "    # activites = []\n",
    "\n",
    "    def __init__(self, breed):\n",
    "        \"\"\"This method accepts the breed of the dog and initialises it afterwards.\"\"\"\n",
    "        self.activities = []\n",
    "        self.breed = breed\n",
    "    \n",
    "    def addActivity(self, act):\n",
    "        self.activities.append(act)\n",
    "\n",
    "    def __secretActivity(self):\n",
    "        print(self.breed, \"doing secret activity!\")\n",
    "    \n",
    "    def introduce(self):\n",
    "        \"\"\"This describes what activities, the dog is capable of performing.\"\"\"\n",
    "        print(\"Breed = \" + self.breed)\n",
    "        print(\"Activities = \", end = \"\")\n",
    "        for x in self.activities:\n",
    "            print(x, end =\" ->.<- \")"
   ]
  },
  {
   "cell_type": "code",
   "execution_count": 45,
   "metadata": {},
   "outputs": [
    {
     "ename": "AttributeError",
     "evalue": "'dog' object has no attribute '__secretActivity'",
     "output_type": "error",
     "traceback": [
      "\u001b[1;31m---------------------------------------------------------------------------\u001b[0m",
      "\u001b[1;31mAttributeError\u001b[0m                            Traceback (most recent call last)",
      "\u001b[1;32m<ipython-input-45-261d0f27805f>\u001b[0m in \u001b[0;36m<module>\u001b[1;34m\u001b[0m\n\u001b[1;32m----> 1\u001b[1;33m \u001b[0md2\u001b[0m\u001b[1;33m.\u001b[0m\u001b[0m__secretActivity\u001b[0m\u001b[1;33m(\u001b[0m\u001b[1;33m)\u001b[0m\u001b[1;33m\u001b[0m\u001b[1;33m\u001b[0m\u001b[0m\n\u001b[0m",
      "\u001b[1;31mAttributeError\u001b[0m: 'dog' object has no attribute '__secretActivity'"
     ]
    }
   ],
   "source": [
    "d2.__secretActivity() "
   ]
  },
  {
   "cell_type": "code",
   "execution_count": 46,
   "metadata": {},
   "outputs": [],
   "source": [
    "dog?"
   ]
  },
  {
   "cell_type": "code",
   "execution_count": 49,
   "metadata": {},
   "outputs": [],
   "source": [
    "dog.introduce?"
   ]
  },
  {
   "cell_type": "markdown",
   "metadata": {},
   "source": [
    "### Let's talk about Inheritance!"
   ]
  },
  {
   "cell_type": "code",
   "execution_count": 71,
   "metadata": {},
   "outputs": [],
   "source": [
    "class schoolMember():\n",
    "    def __init__(self, name, age):\n",
    "        self.name = name\n",
    "        self.age = age\n",
    "        print(\"Initialised schoolMember\")\n",
    "    def introduce(self):\n",
    "        print(\"Name\\t%s\"%(self.name))\n",
    "        print(\"Age\\t%s\"%(self.age))\n",
    "\n",
    "class teacher(schoolMember):\n",
    "    def __init__(self,name,age, salary):\n",
    "        schoolMember.__init__(self,name,age)\n",
    "        self.salary = salary\n",
    "        print(\"Initialised teacher\") \n",
    "        \n",
    "    def introduce(self):\n",
    "        schoolMember.introduce(self)\n",
    "        print(\"Salary\\t%s\"%self.salary)\n",
    "        \n",
    "class student(schoolMember):\n",
    "    def __init__(self,name,age, marks):\n",
    "        schoolMember.__init__(self,name,age)\n",
    "        self.marks = marks\n",
    "        print(\"Initialised teacher\") \n",
    "        \n",
    "    def introduce(self):\n",
    "        schoolMember.introduce(self)\n",
    "        print(\"marks\\t%s\"%self.marks)\n",
    "        "
   ]
  },
  {
   "cell_type": "code",
   "execution_count": 72,
   "metadata": {},
   "outputs": [
    {
     "name": "stdout",
     "output_type": "stream",
     "text": [
      "Initialised schoolMember\n",
      "Initialised teacher\n"
     ]
    }
   ],
   "source": [
    "rf = teacher(\"richard feynman\", 54, 4600) "
   ]
  },
  {
   "cell_type": "code",
   "execution_count": 73,
   "metadata": {},
   "outputs": [
    {
     "name": "stdout",
     "output_type": "stream",
     "text": [
      "Name\trichard feynman\n",
      "Age\t54\n",
      "Salary\t4600\n"
     ]
    }
   ],
   "source": [
    "rf.introduce() "
   ]
  },
  {
   "cell_type": "code",
   "execution_count": 74,
   "metadata": {},
   "outputs": [
    {
     "name": "stdout",
     "output_type": "stream",
     "text": [
      "Initialised schoolMember\n",
      "Initialised teacher\n"
     ]
    }
   ],
   "source": [
    "ak = student(\"aditya krishna\", 21, 105) "
   ]
  },
  {
   "cell_type": "code",
   "execution_count": 75,
   "metadata": {},
   "outputs": [
    {
     "name": "stdout",
     "output_type": "stream",
     "text": [
      "Name\taditya krishna\n",
      "Age\t21\n",
      "marks\t105\n"
     ]
    }
   ],
   "source": [
    "ak.introduce() "
   ]
  }
 ],
 "metadata": {
  "kernelspec": {
   "display_name": "Python 3.8.2 32-bit",
   "language": "python",
   "name": "python38232bit08f36b0a4e064fbebdc7184099ae590e"
  },
  "language_info": {
   "codemirror_mode": {
    "name": "ipython",
    "version": 3
   },
   "file_extension": ".py",
   "mimetype": "text/x-python",
   "name": "python",
   "nbconvert_exporter": "python",
   "pygments_lexer": "ipython3",
   "version": "3.8.2"
  }
 },
 "nbformat": 4,
 "nbformat_minor": 2
}
