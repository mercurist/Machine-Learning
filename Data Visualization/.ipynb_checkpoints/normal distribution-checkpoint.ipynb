{
 "cells": [
  {
   "cell_type": "code",
   "execution_count": 1,
   "metadata": {},
   "outputs": [],
   "source": [
    "import numpy as np\n",
    "import pandas as pd\n",
    "import matplotlib.pyplot as plt"
   ]
  },
  {
   "cell_type": "code",
   "execution_count": 4,
   "metadata": {},
   "outputs": [],
   "source": [
    "# univariant normal distribution\n",
    "xsn = np.random.randn(100) \n",
    "u = 60\n",
    "sigma = 10\n",
    "x = np.floor(xsn * sigma + u) "
   ]
  },
  {
   "cell_type": "code",
   "execution_count": 5,
   "metadata": {},
   "outputs": [
    {
     "data": {
      "text/plain": [
       "array([58., 36., 41., 68., 42., 42., 53., 62., 65., 57., 74., 61., 80.,\n",
       "       38., 66., 67., 46., 39., 47., 53., 43., 60., 64., 63., 61., 45.,\n",
       "       52., 53., 51., 54., 72., 46., 44., 57., 75., 67., 53., 54., 46.,\n",
       "       72., 58., 60., 49., 73., 63., 77., 58., 58., 58., 41., 63., 66.,\n",
       "       61., 55., 63., 84., 56., 70., 63., 67., 39., 36., 71., 55., 70.,\n",
       "       61., 49., 51., 73., 64., 55., 63., 64., 51., 51., 80., 49., 51.,\n",
       "       44., 61., 47., 66., 51., 48., 41., 74., 59., 63., 58., 71., 54.,\n",
       "       63., 64., 72., 70., 63., 62., 55., 51., 54.])"
      ]
     },
     "execution_count": 5,
     "metadata": {},
     "output_type": "execute_result"
    }
   ],
   "source": [
    "x"
   ]
  },
  {
   "cell_type": "code",
   "execution_count": 7,
   "metadata": {},
   "outputs": [
    {
     "data": {
      "image/png": "[encoded data removed]",
      "text/plain": [
       "<Figure size 432x288 with 1 Axes>"
      ]
     },
     "metadata": {
      "needs_background": "light"
     },
     "output_type": "display_data"
    }
   ],
   "source": [
    "plt.hist(x)\n",
    "plt.ylabel(\"No of students\")\n",
    "plt.xlabel(\"Marks\")\n",
    "plt.show() "
   ]
  },
  {
   "cell_type": "code",
   "execution_count": 43,
   "metadata": {},
   "outputs": [
    {
     "data": {
      "image/png": "[encoded data removed]",
      "text/plain": [
       "<Figure size 432x288 with 1 Axes>"
      ]
     },
     "metadata": {
      "needs_background": "light"
     },
     "output_type": "display_data"
    }
   ],
   "source": [
    "# Generate a new distribution\n",
    "mean = 5\n",
    "sigma = 0.2\n",
    "# points = mean + sigma*np.random.randn(1000) \n",
    "points = mean + sigma*np.random.randn(100) \n",
    "\n",
    "plt.hist(points, bins = 10)\n",
    "# plt.hist(points, bins = 100)    \n",
    "\n",
    "plt.show() "
   ]
  },
  {
   "cell_type": "code",
   "execution_count": null,
   "metadata": {},
   "outputs": [],
   "source": [
    "p"
   ]
  },
  {
   "cell_type": "code",
   "execution_count": 32,
   "metadata": {},
   "outputs": [],
   "source": [
    "plt.hist?"
   ]
  },
  {
   "cell_type": "code",
   "execution_count": 33,
   "metadata": {},
   "outputs": [
    {
     "data": {
      "text/plain": [
       "array([5., 4., 4., 5., 5., 3., 4., 5., 3., 5., 4., 3., 5., 4., 4., 5., 5.,\n",
       "       2., 5., 4., 5., 6., 3., 4., 4., 3., 3., 7., 4., 5., 4., 4., 6., 5.,\n",
       "       6., 3., 5., 5., 7., 6., 4., 5., 6., 4., 4., 6., 4., 5., 6., 5., 3.,\n",
       "       6., 6., 5., 3., 4., 5., 6., 6., 6., 5., 5., 5., 4., 3., 3., 4., 4.,\n",
       "       5., 4., 4., 4., 3., 4., 6., 5., 5., 4., 5., 4., 5., 4., 3., 5., 4.,\n",
       "       4., 4., 5., 5., 6., 5., 6., 5., 4., 6., 4., 4., 4., 4., 4.])"
      ]
     },
     "execution_count": 33,
     "metadata": {},
     "output_type": "execute_result"
    }
   ],
   "source": [
    "np.floor(points) "
   ]
  },
  {
   "cell_type": "code",
   "execution_count": 25,
   "metadata": {
    "collapsed": true
   },
   "outputs": [
    {
     "data": {
      "text/plain": [
       "array([5., 6., 4., 5., 4., 6., 4., 5., 5., 6., 5., 6., 6., 5., 6., 6., 5.,\n",
       "       6., 8., 5., 5., 5., 6., 4., 5., 6., 6., 6., 5., 4., 4., 5., 6., 6.,\n",
       "       5., 5., 5., 5., 5., 5., 5., 5., 4., 5., 5., 4., 5., 3., 5., 7., 6.,\n",
       "       5., 5., 4., 3., 6., 6., 6., 5., 5., 4., 4., 5., 6., 6., 6., 7., 6.,\n",
       "       5., 4., 5., 5., 4., 4., 4., 4., 4., 7., 4., 4., 5., 4., 6., 4., 4.,\n",
       "       3., 5., 4., 8., 4., 4., 5., 6., 5., 6., 8., 5., 6., 6., 5., 4., 4.,\n",
       "       4., 4., 5., 5., 7., 3., 5., 7., 5., 6., 4., 7., 5., 5., 4., 5., 6.,\n",
       "       6., 4., 6., 3., 5., 5., 6., 5., 6., 4., 3., 5., 5., 6., 5., 5., 7.,\n",
       "       4., 7., 6., 4., 3., 4., 5., 5., 4., 6., 6., 5., 5., 5., 4., 6., 6.,\n",
       "       6., 4., 4., 5., 5., 5., 4., 7., 6., 4., 5., 5., 6., 6., 7., 5., 5.,\n",
       "       5., 5., 5., 3., 5., 4., 4., 4., 6., 5., 5., 4., 7., 6., 6., 6., 4.,\n",
       "       5., 5., 4., 6., 5., 5., 6., 5., 4., 5., 4., 4., 6., 5., 4., 6., 5.,\n",
       "       6., 5., 7., 6., 5., 5., 5., 5., 5., 5., 4., 7., 5., 4., 5., 5., 4.,\n",
       "       6., 4., 5., 5., 5., 5., 4., 6., 5., 5., 5., 4., 4., 5., 5., 5., 5.,\n",
       "       5., 3., 5., 7., 6., 6., 4., 6., 4., 5., 6., 5., 5., 4., 5., 4., 4.,\n",
       "       4., 4., 7., 5., 4., 5., 5., 5., 4., 7., 6., 5., 4., 5., 4., 5., 4.,\n",
       "       6., 5., 6., 6., 5., 5., 5., 7., 4., 7., 4., 4., 4., 4., 4., 6., 4.,\n",
       "       3., 4., 2., 5., 5., 4., 6., 7., 4., 6., 7., 4., 5., 5., 5., 7., 6.,\n",
       "       4., 5., 6., 7., 5., 6., 6., 6., 5., 5., 5., 4., 4., 4., 4., 5., 3.,\n",
       "       4., 6., 7., 4., 6., 5., 5., 4., 4., 6., 5., 3., 3., 5., 6., 3., 4.,\n",
       "       4., 5., 4., 4., 6., 5., 5., 6., 5., 5., 6., 7., 4., 5., 4., 6., 4.,\n",
       "       5., 4., 6., 5., 4., 5., 5., 5., 6., 6., 5., 6., 5., 3., 4., 5., 6.,\n",
       "       5., 4., 5., 5., 5., 5., 4., 5., 5., 4., 6., 6., 5., 4., 5., 5., 4.,\n",
       "       5., 5., 5., 6., 5., 4., 3., 6., 7., 5., 4., 6., 4., 6., 6., 6., 3.,\n",
       "       6., 4., 5., 4., 5., 4., 4., 6., 4., 6., 6., 4., 5., 6., 5., 6., 6.,\n",
       "       4., 6., 6., 4., 4., 6., 5., 5., 5., 6., 5., 6., 5., 6., 5., 6., 5.,\n",
       "       5., 5., 6., 4., 6., 3., 4., 4., 4., 6., 4., 4., 5., 4., 6., 5., 5.,\n",
       "       4., 3., 6., 3., 6., 5., 5., 4., 5., 3., 6., 5., 4., 5., 4., 4., 4.,\n",
       "       4., 6., 5., 5., 5., 4., 4., 5., 5., 5., 5., 5., 3., 5., 6., 5., 4.,\n",
       "       5., 4., 6., 4., 5., 4., 5., 6., 5., 3., 3., 5., 7., 4., 6., 7., 4.,\n",
       "       6., 4., 5., 5., 5., 6., 5., 5., 5., 4., 9., 6., 5., 5., 5., 3., 4.,\n",
       "       5., 6., 4., 6., 5., 4., 6., 4., 4., 4., 4., 5., 5., 5., 5., 6., 3.,\n",
       "       6., 4., 6., 5., 3., 5., 6., 7., 5., 4., 6., 3., 4., 4., 7., 4., 5.,\n",
       "       4., 6., 5., 5., 4., 4., 6., 5., 5., 3., 7., 4., 5., 5., 5., 4., 5.,\n",
       "       6., 4., 5., 4., 5., 4., 5., 6., 5., 6., 5., 4., 3., 6., 6., 5., 4.,\n",
       "       6., 5., 5., 4., 3., 6., 4., 4., 5., 5., 5., 5., 5., 5., 5., 4., 6.,\n",
       "       6., 6., 5., 3., 6., 3., 6., 5., 5., 5., 4., 6., 5., 6., 5., 5., 5.,\n",
       "       7., 6., 4., 4., 6., 5., 3., 3., 5., 4., 4., 4., 7., 5., 4., 4., 7.,\n",
       "       6., 5., 5., 5., 6., 4., 6., 5., 4., 6., 3., 4., 4., 5., 6., 6., 4.,\n",
       "       3., 4., 5., 6., 4., 6., 3., 5., 6., 4., 4., 5., 4., 3., 3., 5., 4.,\n",
       "       5., 5., 3., 5., 5., 5., 6., 5., 4., 4., 5., 4., 5., 5., 5., 5., 4.,\n",
       "       6., 5., 5., 5., 6., 5., 4., 6., 6., 7., 5., 4., 6., 5., 6., 4., 6.,\n",
       "       5., 5., 3., 7., 7., 5., 4., 5., 5., 6., 5., 5., 3., 6., 5., 7., 4.,\n",
       "       5., 4., 4., 4., 5., 5., 4., 4., 6., 4., 3., 6., 5., 5., 4., 4., 6.,\n",
       "       6., 5., 4., 5., 4., 6., 4., 4., 5., 4., 5., 5., 5., 5., 5., 4., 2.,\n",
       "       6., 5., 5., 6., 5., 4., 6., 4., 6., 5., 5., 4., 4., 6., 5., 4., 5.,\n",
       "       6., 6., 5., 6., 5., 5., 3., 4., 7., 6., 4., 3., 3., 7., 5., 5., 5.,\n",
       "       5., 4., 6., 5., 5., 7., 5., 5., 5., 6., 5., 4., 5., 4., 5., 5., 4.,\n",
       "       5., 4., 7., 3., 6., 5., 4., 6., 4., 6., 5., 6., 6., 6., 4., 5., 6.,\n",
       "       4., 6., 5., 5., 5., 3., 4., 4., 5., 5., 7., 6., 6., 4., 5., 3., 4.,\n",
       "       5., 6., 5., 5., 6., 6., 4., 5., 4., 5., 5., 5., 5., 4., 7., 5., 6.,\n",
       "       3., 4., 6., 5., 6., 5., 5., 5., 5., 6., 6., 5., 6., 6., 6., 5., 6.,\n",
       "       6., 4., 5., 7., 5., 5., 6., 5., 5., 4., 4., 4., 3., 5., 6., 5., 4.,\n",
       "       7., 6., 5., 5., 6., 5., 4., 5., 6., 3., 5., 6., 5., 3., 5., 3., 6.,\n",
       "       5., 5., 5., 5., 5., 4., 5., 4., 4., 3., 5., 5., 4., 5., 5., 3., 2.,\n",
       "       5., 4., 5., 5., 6., 5., 6., 4., 5., 6., 4., 5., 5., 4., 3., 6., 5.,\n",
       "       5., 4., 5., 3., 5., 6., 6., 4., 6., 5., 4., 6., 5., 6., 5., 5., 7.,\n",
       "       3., 5., 7., 5., 6., 5., 7., 5., 4., 3., 4., 4., 5., 5., 5., 4., 3.,\n",
       "       5., 5., 4., 4., 6., 4., 4., 6., 4., 6., 5., 4., 4., 6.])"
      ]
     },
     "execution_count": 25,
     "metadata": {},
     "output_type": "execute_result"
    }
   ],
   "source": [
    "np.round(points) "
   ]
  },
  {
   "cell_type": "code",
   "execution_count": 26,
   "metadata": {
    "collapsed": true
   },
   "outputs": [
    {
     "data": {
      "text/plain": [
       "array([5.03247194, 6.07856218, 3.7435527 , 5.05553662, 4.02317964,\n",
       "       6.42421618, 4.49380114, 4.68969384, 4.98639944, 5.76084161,\n",
       "       4.94902176, 5.78760794, 6.06757826, 4.64081805, 5.65070412,\n",
       "       5.9937976 , 5.37217482, 6.09691347, 7.9658658 , 5.07518012,\n",
       "       4.90170215, 4.72201541, 5.6886361 , 3.89166301, 5.2698552 ,\n",
       "       5.95693291, 6.01295849, 5.64321625, 4.81712005, 3.73925539,\n",
       "       4.44066507, 4.96422111, 6.03914375, 6.01019779, 4.65814988,\n",
       "       5.07255869, 5.32330357, 5.49263799, 5.15909717, 4.56572248,\n",
       "       5.02120774, 5.27738223, 4.07385457, 5.23647174, 5.34040947,\n",
       "       4.28991997, 4.80904091, 2.55046319, 4.93364285, 6.97887409,\n",
       "       5.87244244, 5.38114093, 5.23353906, 4.46327447, 3.41728134,\n",
       "       5.91154089, 6.04626484, 5.92124701, 4.81237648, 5.38206568,\n",
       "       3.69551425, 4.30106193, 5.23477927, 6.11834216, 5.89807768,\n",
       "       6.37394597, 6.89455996, 5.90600334, 5.02624715, 4.39363391,\n",
       "       4.78535227, 5.0138603 , 4.22284095, 4.31801046, 3.90128679,\n",
       "       4.23496949, 4.45100619, 6.87802697, 4.26357273, 4.13265239,\n",
       "       4.91211645, 4.26074003, 5.63740469, 3.91984557, 4.17387301,\n",
       "       3.08570326, 5.23689031, 4.33074554, 8.01381553, 3.97564507,\n",
       "       4.08468227, 5.41651771, 5.58615988, 4.9288882 , 6.41075505,\n",
       "       7.79914255, 5.29506505, 5.8582545 , 5.89833186, 5.02998558,\n",
       "       3.92839051, 3.920598  , 3.88942252, 4.2579887 , 5.00350266,\n",
       "       5.179925  , 7.09479518, 3.18310237, 4.61575764, 7.15552513,\n",
       "       4.91514435, 5.75041566, 3.82004713, 6.61833101, 4.5247701 ,\n",
       "       5.48136139, 4.02931796, 5.31351574, 5.57964055, 6.11405831,\n",
       "       4.28937125, 5.96587623, 3.47607973, 4.52899198, 5.18997912,\n",
       "       5.94414013, 4.59811253, 6.00894693, 3.96680203, 3.3465819 ,\n",
       "       4.86837101, 5.1074769 , 6.46726653, 4.8267641 , 5.41175739,\n",
       "       7.11399335, 3.91018897, 6.80762891, 5.68896215, 3.92253787,\n",
       "       2.71090676, 4.09456899, 4.76246225, 4.70403051, 4.44517998,\n",
       "       5.74109993, 5.66517916, 5.27353362, 5.09993466, 4.62415432,\n",
       "       3.56013088, 5.55512519, 6.49466757, 5.70712557, 3.67582033,\n",
       "       4.28566318, 5.45070039, 5.26542196, 5.05612448, 4.06481179,\n",
       "       6.84587274, 6.3439626 , 4.46842217, 5.26482136, 4.72679505,\n",
       "       5.71548361, 5.72085752, 6.89427598, 5.11050411, 5.4485652 ,\n",
       "       4.81550342, 4.70098433, 5.40058578, 3.23787806, 4.65664163,\n",
       "       3.59908601, 3.6174621 , 4.28691975, 6.06558537, 5.37899355,\n",
       "       5.21626626, 3.56422696, 6.99730778, 5.61515326, 6.11459844,\n",
       "       5.54856196, 4.35751182, 5.43320773, 4.96850449, 4.04225943,\n",
       "       5.73795355, 5.4814911 , 4.65433486, 5.64655361, 5.02178859,\n",
       "       4.25661402, 5.19847402, 4.04045501, 4.16001045, 5.8154859 ,\n",
       "       5.28269265, 4.43417269, 6.31516455, 4.98243133, 5.60435246,\n",
       "       5.26939797, 6.59720345, 6.05668935, 4.9412416 , 5.14712762,\n",
       "       5.11064836, 4.75960454, 4.89637468, 4.8190275 , 4.44950407,\n",
       "       7.31564474, 5.11275302, 4.30457439, 5.33707213, 4.54205361,\n",
       "       3.89381426, 6.38517451, 3.99417369, 4.52946371, 4.67818801,\n",
       "       4.72449554, 5.08193888, 4.39168483, 5.80261557, 4.66453108,\n",
       "       4.88127536, 4.7959363 , 4.17234331, 4.4237448 , 5.1555946 ,\n",
       "       5.44361278, 5.37284108, 5.08440664, 4.53982744, 2.99874932,\n",
       "       4.59795229, 6.93640447, 6.26894759, 5.65649217, 4.12645099,\n",
       "       5.5734843 , 3.96369153, 5.49233174, 5.96500935, 5.42169741,\n",
       "       4.77008796, 4.42210902, 5.20218454, 4.30321505, 3.94285336,\n",
       "       3.70713852, 3.65676145, 7.06733901, 5.29351217, 4.29971961,\n",
       "       5.08703403, 5.48679015, 4.98175316, 4.41254734, 6.51674635,\n",
       "       5.51050092, 4.57327814, 4.02659426, 4.53769493, 4.49687889,\n",
       "       5.35097812, 3.91084861, 5.6494803 , 4.82553783, 6.19079395,\n",
       "       6.36249272, 5.12709344, 5.01478589, 5.12211629, 7.10490336,\n",
       "       4.4525045 , 7.15805066, 3.80356645, 3.70584209, 3.59978637,\n",
       "       3.63450412, 3.74747112, 5.71438486, 3.9532941 , 2.81893616,\n",
       "       4.38654028, 2.16413579, 4.72534483, 5.0646154 , 3.97824954,\n",
       "       5.84826551, 6.57106838, 4.23181918, 5.79273382, 7.15865296,\n",
       "       4.1787527 , 5.11320099, 5.2703134 , 4.96518066, 7.47806685,\n",
       "       5.72162044, 4.19321295, 4.86993261, 5.51274775, 6.5786561 ,\n",
       "       5.05801907, 6.2266296 , 5.55765004, 6.10172279, 4.69993911,\n",
       "       5.2789546 , 4.71375439, 3.69593734, 3.826747  , 4.07650896,\n",
       "       3.9019345 , 5.38659774, 2.70223632, 4.03935166, 6.1755541 ,\n",
       "       6.68839288, 3.60157361, 5.55960518, 4.98822504, 4.99313418,\n",
       "       4.19097528, 4.0953341 , 5.76812517, 5.00686112, 3.26653917,\n",
       "       3.153061  , 4.95041462, 5.91624327, 3.20439185, 4.42982216,\n",
       "       3.92711952, 5.17197016, 3.51587476, 4.31604082, 5.80138597,\n",
       "       4.77495159, 5.37166209, 6.44743618, 4.75489511, 4.52281765,\n",
       "       5.67559673, 6.59599863, 3.63902553, 4.57722752, 4.36063988,\n",
       "       5.81358603, 3.93394315, 4.8495641 , 4.23430886, 5.93402521,\n",
       "       4.67425407, 4.39983822, 4.95086342, 5.12195339, 5.47560342,\n",
       "       5.91436861, 5.5747114 , 4.98767525, 5.62863299, 4.82527943,\n",
       "       3.23692035, 4.31066249, 5.02475609, 6.473249  , 4.89938168,\n",
       "       3.87442849, 5.19224951, 5.45269685, 4.8249864 , 4.66016205,\n",
       "       4.10429848, 5.27465934, 4.55165118, 4.4935405 , 5.75057109,\n",
       "       5.61299885, 5.24249222, 4.37299532, 5.17255849, 4.85172135,\n",
       "       4.38165158, 5.35736868, 5.31860406, 4.80637122, 5.59452816,\n",
       "       5.37393792, 4.27089868, 3.26297575, 5.84512068, 6.79351184,\n",
       "       4.90954301, 4.42262757, 6.03665569, 3.95133121, 6.46486069,\n",
       "       5.6584918 , 5.54732517, 3.19353133, 5.59921279, 3.85720775,\n",
       "       4.53167528, 3.81199415, 5.46890817, 4.45389221, 4.13034808,\n",
       "       5.73072436, 3.98028244, 5.51374976, 5.51946635, 4.02250505,\n",
       "       5.11967573, 6.44799583, 5.07586292, 5.50449334, 5.75994245,\n",
       "       3.83152372, 5.93654459, 5.50896682, 3.88960199, 3.8069978 ,\n",
       "       5.85219237, 5.22553601, 5.01128141, 4.67720224, 5.69432401,\n",
       "       5.02864305, 5.81974331, 4.7889914 , 5.64611906, 5.07386768,\n",
       "       5.56025472, 4.89168169, 4.85465798, 4.76123   , 5.77369217,\n",
       "       4.44898408, 6.3129963 , 3.34858769, 4.19294697, 4.30023056,\n",
       "       3.65903193, 6.051429  , 4.02203439, 4.48765732, 5.47083483,\n",
       "       4.34958421, 5.66285646, 5.26517139, 4.69598687, 3.7594641 ,\n",
       "       3.29721537, 6.24616752, 3.38667207, 5.50703357, 5.01481731,\n",
       "       5.10368851, 4.37228222, 4.78971517, 3.45098956, 6.44484419,\n",
       "       5.18373222, 4.31990475, 4.90003954, 4.44761993, 4.37459381,\n",
       "       4.44278309, 4.02087515, 6.06697358, 5.4449602 , 4.50878792,\n",
       "       4.87142446, 4.36883039, 4.15298872, 5.33388881, 4.72947215,\n",
       "       4.88229116, 5.43690288, 5.21456673, 3.26201767, 4.58736906,\n",
       "       6.37675427, 5.01099935, 4.21678534, 4.53612291, 4.41699633,\n",
       "       6.49663213, 3.98927215, 4.96045013, 3.94646814, 4.96223454,\n",
       "       5.91963099, 4.7190267 , 3.255013  , 3.05811839, 4.66682995,\n",
       "       6.56675927, 3.78526718, 6.33426216, 6.9355699 , 3.98834733,\n",
       "       6.02260138, 4.07486453, 4.9047804 , 4.89398645, 4.77408967,\n",
       "       5.84097874, 4.67622804, 5.34994957, 5.08956552, 3.89814218,\n",
       "       8.66744496, 6.44486979, 5.00138544, 5.16734911, 5.17592608,\n",
       "       3.22326717, 4.36005116, 4.8819745 , 5.52904584, 3.84505597,\n",
       "       5.72627041, 5.04157859, 3.84286888, 5.8743333 , 4.21717214,\n",
       "       4.09452514, 4.15893243, 3.8618098 , 5.10448533, 4.67090323,\n",
       "       5.25039068, 4.68348699, 6.36528549, 3.14300882, 5.7129673 ,\n",
       "       4.34067452, 5.60154292, 5.20796043, 3.23844092, 4.57026442,\n",
       "       5.8246617 , 7.33294696, 5.34197841, 4.2323908 , 6.20118065,\n",
       "       3.34080761, 4.49298567, 3.83693472, 6.69502342, 4.11331744,\n",
       "       5.19854605, 3.70567464, 5.57869422, 4.77262455, 4.91352289,\n",
       "       3.60934817, 3.86001554, 6.22398762, 5.05990977, 4.5111908 ,\n",
       "       2.79214973, 7.403913  , 3.8676587 , 4.76939357, 5.34130343,\n",
       "       4.77831919, 4.36336034, 4.87574973, 5.95500048, 4.24735347,\n",
       "       4.62112423, 4.05693127, 5.12341324, 4.47953139, 4.9022666 ,\n",
       "       5.50764113, 4.89739479, 6.13075079, 4.90494546, 4.29045671,\n",
       "       3.28299092, 5.9339023 , 5.88835142, 4.97878287, 3.58231357,\n",
       "       6.28574052, 5.10358277, 5.21344797, 3.85966559, 3.41351963,\n",
       "       5.94659104, 4.12251987, 3.87714159, 4.67333952, 5.35629809,\n",
       "       4.71269114, 5.00705486, 4.54110481, 4.95699022, 5.3404259 ,\n",
       "       4.2305962 , 5.96707553, 6.41739513, 5.5133483 , 5.09998889,\n",
       "       3.00924722, 6.0084819 , 3.41095916, 5.92509489, 4.78020014,\n",
       "       4.69423117, 5.47853286, 3.73223026, 5.894408  , 5.30007346,\n",
       "       5.7209427 , 5.03786298, 5.30684607, 5.28463604, 6.54990989,\n",
       "       6.39646538, 4.01232731, 4.04008403, 6.10888032, 4.95739492,\n",
       "       3.3973547 , 3.1318091 , 4.53346376, 3.72701626, 3.78453327,\n",
       "       3.5494991 , 7.45383445, 4.64391807, 3.80317744, 4.25250696,\n",
       "       7.18310116, 5.73538119, 5.07780125, 4.59639906, 5.35831078,\n",
       "       6.1465554 , 3.91131465, 6.04673729, 5.23562055, 4.1186831 ,\n",
       "       5.50855555, 2.70370482, 3.91855376, 4.17002814, 5.21574254,\n",
       "       5.93802928, 5.98483477, 4.16708561, 2.96861527, 4.06583096,\n",
       "       4.86070771, 5.55373546, 4.01703013, 5.86493727, 2.87781089,\n",
       "       5.26585039, 5.55572836, 4.20585337, 3.92715293, 4.53423924,\n",
       "       3.69167682, 3.35734929, 3.43559477, 4.8994953 , 4.15594603,\n",
       "       4.731402  , 4.62213849, 3.19842307, 4.59257287, 4.57640612,\n",
       "       4.53764703, 5.52362485, 5.14737553, 4.39550735, 4.05288354,\n",
       "       5.31859359, 4.44529888, 4.59314661, 4.80088776, 4.73081261,\n",
       "       4.69615158, 4.40293581, 6.38331843, 5.29283032, 5.48602742,\n",
       "       4.85139881, 6.04220769, 5.36014747, 3.88134349, 5.72103043,\n",
       "       5.5232851 , 6.92634563, 4.98447227, 4.30480709, 5.79187932,\n",
       "       5.29263109, 5.91058481, 3.63069617, 6.12365998, 4.61065982,\n",
       "       5.07758753, 3.11810485, 6.60003315, 6.67228187, 5.33233546,\n",
       "       4.10699301, 4.94439506, 4.92801562, 5.96919241, 5.20815608,\n",
       "       5.27196946, 3.12936577, 5.82292731, 4.78449909, 6.54144794,\n",
       "       4.27319201, 4.88290539, 4.25536051, 4.22201409, 4.39685229,\n",
       "       4.93831606, 4.77500308, 3.6155152 , 4.17982861, 6.48013084,\n",
       "       4.13893992, 3.4991595 , 5.6607059 , 5.18186145, 4.72114823,\n",
       "       3.61567725, 4.1349731 , 5.50990569, 5.77017401, 5.47589442,\n",
       "       4.18915266, 5.22609882, 4.38688076, 5.71547494, 3.72528637,\n",
       "       3.89075615, 4.86894914, 3.82971854, 4.92700622, 4.54878497,\n",
       "       5.12169724, 4.85504163, 5.21416239, 3.91227731, 2.26546916,\n",
       "       5.62221013, 5.28612247, 4.75426155, 6.02206536, 5.23102088,\n",
       "       3.84103522, 5.55311053, 3.50938091, 5.60558994, 4.63338986,\n",
       "       4.59120317, 4.49094327, 4.35594443, 6.09744347, 5.23396641,\n",
       "       4.2000544 , 5.0632385 , 6.16768884, 5.52789706, 5.34101439,\n",
       "       5.51986382, 5.39126813, 5.30725046, 2.94925997, 4.46834291,\n",
       "       7.04793855, 5.82910481, 4.40305083, 3.30499389, 3.30165419,\n",
       "       7.14687556, 5.24508529, 5.27048785, 4.68842844, 5.26378279,\n",
       "       4.24392257, 6.35363102, 5.28212514, 5.27082707, 7.46190784,\n",
       "       4.93366155, 5.27266734, 5.47952106, 5.53134309, 4.88975435,\n",
       "       4.05907968, 5.26277634, 4.4321142 , 4.67050525, 5.38793594,\n",
       "       3.84945622, 4.92012702, 4.25624503, 6.8352758 , 3.42617172,\n",
       "       6.30916801, 4.60294887, 4.36792598, 5.67388738, 4.2681877 ,\n",
       "       6.05711845, 4.59127527, 5.63897644, 6.06584215, 6.12598695,\n",
       "       3.85727944, 4.75043121, 5.83535823, 4.13367411, 6.08770167,\n",
       "       4.95822709, 5.02952429, 4.83990373, 3.43480003, 4.21262706,\n",
       "       4.08952436, 4.66091898, 5.13197193, 6.66777614, 6.27387974,\n",
       "       5.59498162, 4.06304076, 5.07693805, 3.2391996 , 3.89891942,\n",
       "       4.67689464, 5.61309655, 4.65347217, 4.65155006, 6.14722009,\n",
       "       6.24040623, 4.14939955, 4.83374047, 3.92084609, 4.5354173 ,\n",
       "       4.81041129, 4.97677826, 5.36491286, 4.13702183, 7.10857664,\n",
       "       4.53332143, 5.9196436 , 3.43732186, 3.62687925, 6.07318254,\n",
       "       5.29409773, 6.38752715, 4.9101762 , 5.11463153, 5.38401921,\n",
       "       4.89325764, 5.81051439, 5.91886561, 4.78230912, 6.36248288,\n",
       "       6.18538042, 6.36542542, 4.75203109, 6.15120037, 5.50036275,\n",
       "       3.86416233, 5.14717872, 7.21687125, 5.13851081, 5.34991425,\n",
       "       5.93932676, 5.12578469, 5.1304934 , 3.76071185, 3.95021773,\n",
       "       3.86061547, 2.87974648, 5.41554229, 5.99029334, 5.47051402,\n",
       "       3.66528712, 7.10906616, 6.39068472, 5.39161213, 4.92265714,\n",
       "       5.51330522, 5.23226254, 3.71529605, 4.62022031, 5.63121509,\n",
       "       2.73419803, 5.21264116, 5.95473908, 5.49766427, 3.45653215,\n",
       "       4.78099296, 3.38330578, 5.75584322, 5.28342965, 5.0838383 ,\n",
       "       4.87065389, 5.18226085, 4.96354009, 4.04861547, 4.68860233,\n",
       "       4.48924965, 3.93730404, 3.25176545, 4.63764175, 4.88515427,\n",
       "       3.5913121 , 5.45469613, 5.00213756, 3.43918898, 2.26471159,\n",
       "       5.00234636, 4.47994546, 5.32877487, 4.95483673, 5.69861199,\n",
       "       5.26025612, 6.02574613, 3.81044988, 5.16069528, 6.24946665,\n",
       "       3.95949714, 4.64956327, 5.18913647, 3.63656925, 3.29240905,\n",
       "       6.18989617, 5.03803901, 4.96319345, 4.27879988, 4.61154706,\n",
       "       2.86156123, 5.37789396, 5.91275801, 5.52890322, 4.15652455,\n",
       "       6.05386974, 4.65316146, 3.85615001, 6.10922354, 5.28369412,\n",
       "       5.71395492, 5.16015412, 4.9712974 , 7.35866328, 3.41463185,\n",
       "       5.19074698, 6.86597836, 4.81556912, 6.12545062, 5.06846333,\n",
       "       6.98926196, 4.92844764, 4.11253331, 2.78270352, 4.40621445,\n",
       "       4.29011588, 5.3823527 , 4.96458913, 4.82432115, 3.92603092,\n",
       "       3.41664186, 4.67634277, 4.85387388, 4.25092219, 4.13479595,\n",
       "       6.27040598, 4.10190218, 3.87943049, 5.59933205, 3.67097233,\n",
       "       6.4389105 , 4.58556245, 3.95746622, 4.41845904, 5.64616313])"
      ]
     },
     "execution_count": 26,
     "metadata": {},
     "output_type": "execute_result"
    }
   ],
   "source": [
    "points"
   ]
  },
  {
   "cell_type": "code",
   "execution_count": 27,
   "metadata": {},
   "outputs": [
    {
     "data": {
      "text/plain": [
       "(1000,)"
      ]
     },
     "execution_count": 27,
     "metadata": {},
     "output_type": "execute_result"
    }
   ],
   "source": [
    "points.shape"
   ]
  },
  {
   "cell_type": "code",
   "execution_count": 41,
   "metadata": {},
   "outputs": [
    {
     "data": {
      "image/png": "[encoded data removed]",
      "text/plain": [
       "<Figure size 432x288 with 1 Axes>"
      ]
     },
     "metadata": {
      "needs_background": "light"
     },
     "output_type": "display_data"
    }
   ],
   "source": [
    "x = points\n",
    "y = np.zeros(x.shape)\n",
    "plt.scatter(x, y)  \n",
    "plt.show() "
   ]
  },
  {
   "cell_type": "code",
   "execution_count": 36,
   "metadata": {},
   "outputs": [],
   "source": [
    "vals = np.round(x) \n",
    "z = np.unique(vals, return_counts= True)"
   ]
  },
  {
   "cell_type": "code",
   "execution_count": 37,
   "metadata": {},
   "outputs": [
    {
     "data": {
      "text/plain": [
       "(array([3., 4., 5., 6., 7., 8.]), array([ 4, 28, 36, 25,  6,  1]))"
      ]
     },
     "execution_count": 37,
     "metadata": {},
     "output_type": "execute_result"
    }
   ],
   "source": [
    "z"
   ]
  },
  {
   "cell_type": "code",
   "execution_count": 45,
   "metadata": {},
   "outputs": [
    {
     "data": {
      "text/plain": [
       "39"
      ]
     },
     "execution_count": 45,
     "metadata": {},
     "output_type": "execute_result"
    }
   ],
   "source": [
    "# Mutlivariate normal distribution\n",
    "np.random.randint(100) "
   ]
  },
  {
   "cell_type": "code",
   "execution_count": 49,
   "metadata": {},
   "outputs": [
    {
     "data": {
      "text/plain": [
       "array([[[0.40086838, 0.44087165, 0.78876658, 0.7571426 , 0.52971768],\n",
       "        [0.70784564, 0.65949623, 0.70329728, 0.10011259, 0.22674921],\n",
       "        [0.58742206, 0.88967622, 0.14779965, 0.85275042, 0.05850076]],\n",
       "\n",
       "       [[0.77802898, 0.75272765, 0.26394383, 0.36137723, 0.0811276 ],\n",
       "        [0.03360129, 0.90300454, 0.9737993 , 0.31020253, 0.29177889],\n",
       "        [0.90419191, 0.26215434, 0.00448327, 0.80134008, 0.26345413]]])"
      ]
     },
     "execution_count": 49,
     "metadata": {},
     "output_type": "execute_result"
    }
   ],
   "source": [
    "data = np.random.rand(2, 3, 5)  \n",
    "data"
   ]
  },
  {
   "cell_type": "code",
   "execution_count": 50,
   "metadata": {},
   "outputs": [
    {
     "data": {
      "text/plain": [
       "array([[0.58742206, 0.88967622, 0.14779965, 0.85275042, 0.05850076],\n",
       "       [0.90419191, 0.26215434, 0.00448327, 0.80134008, 0.26345413]])"
      ]
     },
     "execution_count": 50,
     "metadata": {},
     "output_type": "execute_result"
    }
   ],
   "source": [
    "data[:, 2, : ] "
   ]
  },
  {
   "cell_type": "code",
   "execution_count": 51,
   "metadata": {},
   "outputs": [
    {
     "data": {
      "text/plain": [
       "array([[0.65949623, 0.70329728, 0.10011259],\n",
       "       [0.88967622, 0.14779965, 0.85275042]])"
      ]
     },
     "execution_count": 51,
     "metadata": {},
     "output_type": "execute_result"
    }
   ],
   "source": [
    "data[0, 1:, 1:4] "
   ]
  },
  {
   "cell_type": "code",
   "execution_count": 62,
   "metadata": {},
   "outputs": [
    {
     "data": {
      "text/plain": [
       "array([[0.78726852, 0.0686927 ],\n",
       "       [0.18088073, 0.63318714],\n",
       "       [0.40811609, 0.22302504],\n",
       "       [0.06431809, 0.429368  ],\n",
       "       [0.33985907, 0.76010601],\n",
       "       [0.94881849, 0.92326825],\n",
       "       [0.03447931, 0.66125767],\n",
       "       [0.18056945, 0.19378736],\n",
       "       [0.64708221, 0.53361241],\n",
       "       [0.83584259, 0.01033345],\n",
       "       [0.66293751, 0.53492682],\n",
       "       [0.11027475, 0.77764421],\n",
       "       [0.18651906, 0.81447156],\n",
       "       [0.31698552, 0.99650011],\n",
       "       [0.57647504, 0.03913261],\n",
       "       [0.71393388, 0.70788896],\n",
       "       [0.37273588, 0.36014104],\n",
       "       [0.17693008, 0.85603222],\n",
       "       [0.58809405, 0.35980441],\n",
       "       [0.95192886, 0.42466001],\n",
       "       [0.19790855, 0.03339278],\n",
       "       [0.6468211 , 0.14011621],\n",
       "       [0.18204406, 0.30840948],\n",
       "       [0.61832569, 0.12548003],\n",
       "       [0.70690923, 0.46552419],\n",
       "       [0.54686032, 0.7070349 ],\n",
       "       [0.60812872, 0.54736412],\n",
       "       [0.4984524 , 0.06807178],\n",
       "       [0.15695788, 0.78971574],\n",
       "       [0.91111924, 0.97522269],\n",
       "       [0.71312276, 0.33998351],\n",
       "       [0.34092172, 0.28424706],\n",
       "       [0.72966303, 0.5050447 ],\n",
       "       [0.26918259, 0.080225  ],\n",
       "       [0.92047482, 0.27623868],\n",
       "       [0.23715694, 0.75958648],\n",
       "       [0.74535657, 0.18850526],\n",
       "       [0.71364932, 0.6551514 ],\n",
       "       [0.85466378, 0.76667207],\n",
       "       [0.07933867, 0.63859745],\n",
       "       [0.94515651, 0.17237796],\n",
       "       [0.8770508 , 0.61188477],\n",
       "       [0.27858108, 0.12605222],\n",
       "       [0.73108536, 0.31509365],\n",
       "       [0.60532398, 0.91148081],\n",
       "       [0.08093071, 0.90127016],\n",
       "       [0.54034686, 0.98281952],\n",
       "       [0.92066542, 0.67021994],\n",
       "       [0.52172324, 0.13496515],\n",
       "       [0.94494229, 0.55228685],\n",
       "       [0.66910755, 0.68949235],\n",
       "       [0.24758398, 0.49467577],\n",
       "       [0.09077108, 0.64804961],\n",
       "       [0.81063558, 0.80194809],\n",
       "       [0.36939393, 0.46355607],\n",
       "       [0.06060074, 0.91203811],\n",
       "       [0.32179312, 0.34763569],\n",
       "       [0.24841372, 0.96709142],\n",
       "       [0.37670637, 0.93219332],\n",
       "       [0.51045428, 0.00191555],\n",
       "       [0.54319924, 0.2706411 ],\n",
       "       [0.11090919, 0.34010283],\n",
       "       [0.53939754, 0.89630794],\n",
       "       [0.53763099, 0.36878809],\n",
       "       [0.3369565 , 0.33017426],\n",
       "       [0.75676298, 0.9882798 ],\n",
       "       [0.04468129, 0.05557388],\n",
       "       [0.90916164, 0.05367937],\n",
       "       [0.49966596, 0.78550054],\n",
       "       [0.19626723, 0.17098351],\n",
       "       [0.27805626, 0.59377009],\n",
       "       [0.21864892, 0.07322166],\n",
       "       [0.91050391, 0.24368865],\n",
       "       [0.96518595, 0.35221286],\n",
       "       [0.00279333, 0.51437902],\n",
       "       [0.75117317, 0.50077334],\n",
       "       [0.35568677, 0.41503709],\n",
       "       [0.43676307, 0.56842027],\n",
       "       [0.1382719 , 0.72383104],\n",
       "       [0.97968014, 0.11809078],\n",
       "       [0.90315728, 0.70275425],\n",
       "       [0.69983887, 0.1404484 ],\n",
       "       [0.61367305, 0.69305803],\n",
       "       [0.60525252, 0.3631514 ],\n",
       "       [0.77367839, 0.52428794],\n",
       "       [0.07860607, 0.74958186],\n",
       "       [0.00649419, 0.09276236],\n",
       "       [0.71650603, 0.27025748],\n",
       "       [0.91051973, 0.98449101],\n",
       "       [0.29099228, 0.65738101],\n",
       "       [0.18614915, 0.67435639],\n",
       "       [0.75326663, 0.1656551 ],\n",
       "       [0.73391738, 0.61142185],\n",
       "       [0.36426069, 0.21316245],\n",
       "       [0.80421239, 0.88893496],\n",
       "       [0.70600075, 0.39045106],\n",
       "       [0.99752845, 0.00788785],\n",
       "       [0.59886382, 0.72961812],\n",
       "       [0.37040952, 0.42896742],\n",
       "       [0.05766453, 0.35327415]])"
      ]
     },
     "execution_count": 62,
     "metadata": {},
     "output_type": "execute_result"
    }
   ],
   "source": [
    "data = np.random.rand(100, 2) \n",
    "data"
   ]
  },
  {
   "cell_type": "code",
   "execution_count": 63,
   "metadata": {},
   "outputs": [
    {
     "data": {
      "text/plain": [
       "array([0.78726852, 0.0686927 ])"
      ]
     },
     "execution_count": 63,
     "metadata": {},
     "output_type": "execute_result"
    }
   ],
   "source": [
    "data[0] "
   ]
  },
  {
   "cell_type": "code",
   "execution_count": 64,
   "metadata": {},
   "outputs": [],
   "source": [
    "height = data[:, 0]*100"
   ]
  },
  {
   "cell_type": "code",
   "execution_count": 65,
   "metadata": {},
   "outputs": [],
   "source": [
    "height = np.round(height)  "
   ]
  },
  {
   "cell_type": "code",
   "execution_count": 66,
   "metadata": {},
   "outputs": [
    {
     "data": {
      "text/plain": [
       "array([ 79.,  18.,  41.,   6.,  34.,  95.,   3.,  18.,  65.,  84.,  66.,\n",
       "        11.,  19.,  32.,  58.,  71.,  37.,  18.,  59.,  95.,  20.,  65.,\n",
       "        18.,  62.,  71.,  55.,  61.,  50.,  16.,  91.,  71.,  34.,  73.,\n",
       "        27.,  92.,  24.,  75.,  71.,  85.,   8.,  95.,  88.,  28.,  73.,\n",
       "        61.,   8.,  54.,  92.,  52.,  94.,  67.,  25.,   9.,  81.,  37.,\n",
       "         6.,  32.,  25.,  38.,  51.,  54.,  11.,  54.,  54.,  34.,  76.,\n",
       "         4.,  91.,  50.,  20.,  28.,  22.,  91.,  97.,   0.,  75.,  36.,\n",
       "        44.,  14.,  98.,  90.,  70.,  61.,  61.,  77.,   8.,   1.,  72.,\n",
       "        91.,  29.,  19.,  75.,  73.,  36.,  80.,  71., 100.,  60.,  37.,\n",
       "         6.])"
      ]
     },
     "execution_count": 66,
     "metadata": {},
     "output_type": "execute_result"
    }
   ],
   "source": [
    "height"
   ]
  },
  {
   "cell_type": "code",
   "execution_count": 68,
   "metadata": {},
   "outputs": [
    {
     "data": {
      "text/plain": [
       "array([ 3., 32., 11., 21., 38., 46., 33., 10., 27.,  1., 27., 39., 41.,\n",
       "       50.,  2., 35., 18., 43., 18., 21.,  2.,  7., 15.,  6., 23., 35.,\n",
       "       27.,  3., 39., 49., 17., 14., 25.,  4., 14., 38.,  9., 33., 38.,\n",
       "       32.,  9., 31.,  6., 16., 46., 45., 49., 34.,  7., 28., 34., 25.,\n",
       "       32., 40., 23., 46., 17., 48., 47.,  0., 14., 17., 45., 18., 17.,\n",
       "       49.,  3.,  3., 39.,  9., 30.,  4., 12., 18., 26., 25., 21., 28.,\n",
       "       36.,  6., 35.,  7., 35., 18., 26., 37.,  5., 14., 49., 33., 34.,\n",
       "        8., 31., 11., 44., 20.,  0., 36., 21., 18.])"
      ]
     },
     "execution_count": 68,
     "metadata": {},
     "output_type": "execute_result"
    }
   ],
   "source": [
    "weight = np.round(data[:, 1]*50)\n",
    "weight"
   ]
  },
  {
   "cell_type": "code",
   "execution_count": 69,
   "metadata": {},
   "outputs": [
    {
     "data": {
      "text/plain": [
       "<matplotlib.collections.PathCollection at 0xcb10868>"
      ]
     },
     "execution_count": 69,
     "metadata": {},
     "output_type": "execute_result"
    },
    {
     "data": {
      "image/png": "[encoded data removed]",
      "text/plain": [
       "<Figure size 432x288 with 1 Axes>"
      ]
     },
     "metadata": {
      "needs_background": "light"
     },
     "output_type": "display_data"
    }
   ],
   "source": [
    "plt.scatter(height, weight) "
   ]
  },
  {
   "cell_type": "code",
   "execution_count": 70,
   "metadata": {},
   "outputs": [],
   "source": [
    "# In this graph , there is no correlation among the variables height and weight, as these were generated randomly  "
   ]
  },
  {
   "cell_type": "code",
   "execution_count": null,
   "metadata": {},
   "outputs": [],
   "source": [
    "# Bivariate\n",
    "mean = np.array([0.0, 0.0])\n",
    "covariance=  np.array([[1., 0.],\n",
    "                      [0., 1.]])"
   ]
  }
 ],
 "metadata": {
  "kernelspec": {
   "display_name": "Python 3",
   "language": "python",
   "name": "python3"
  },
  "language_info": {
   "codemirror_mode": {
    "name": "ipython",
    "version": 3
   },
   "file_extension": ".py",
   "mimetype": "text/x-python",
   "name": "python",
   "nbconvert_exporter": "python",
   "pygments_lexer": "ipython3",
   "version": "3.8.2"
  }
 },
 "nbformat": 4,
 "nbformat_minor": 4
}
